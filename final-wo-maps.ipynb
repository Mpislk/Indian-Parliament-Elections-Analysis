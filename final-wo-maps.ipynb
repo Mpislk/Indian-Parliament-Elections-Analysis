{
 "cells": [
  {
   "cell_type": "code",
   "execution_count": 24,
   "id": "a8acc93c-9f9b-46ee-bc24-6f38d621e7a2",
   "metadata": {},
   "outputs": [],
   "source": [
    "import numpy as np\n",
    "import pandas as pd\n",
    "import matplotlib.pyplot as plt\n",
    "import seaborn as sns"
   ]
  },
  {
   "cell_type": "code",
   "execution_count": 25,
   "id": "48dd4b23-edd5-4914-a39d-38cb572d98e7",
   "metadata": {},
   "outputs": [],
   "source": [
    "#!pip install cartopy"
   ]
  },
  {
   "cell_type": "code",
   "execution_count": 26,
   "id": "94e75382-dcf3-4d80-8e0f-81afa33486e5",
   "metadata": {},
   "outputs": [],
   "source": [
    "# importing datasets \n",
    "data14 = pd.read_csv('constituency_wise_results_2014.csv')\n",
    "data19 = pd.read_csv('constituency_wise_results_2019.csv')"
   ]
  },
  {
   "cell_type": "code",
   "execution_count": null,
   "id": "824bab51-46f3-4375-b8bf-f21546472002",
   "metadata": {},
   "outputs": [],
   "source": []
  },
  {
   "cell_type": "code",
   "execution_count": 27,
   "id": "1cbc4a23-bb96-474f-b9c1-45d3a6b42756",
   "metadata": {},
   "outputs": [],
   "source": [
    "# primary cleaning\n",
    "# 1. clearing head&tailspaces\\"
   ]
  },
  {
   "cell_type": "code",
   "execution_count": 28,
   "id": "03cc1957-7a31-4a51-949d-41bac7101671",
   "metadata": {},
   "outputs": [
    {
     "data": {
      "text/html": [
       "<div>\n",
       "<style scoped>\n",
       "    .dataframe tbody tr th:only-of-type {\n",
       "        vertical-align: middle;\n",
       "    }\n",
       "\n",
       "    .dataframe tbody tr th {\n",
       "        vertical-align: top;\n",
       "    }\n",
       "\n",
       "    .dataframe thead th {\n",
       "        text-align: right;\n",
       "    }\n",
       "</style>\n",
       "<table border=\"1\" class=\"dataframe\">\n",
       "  <thead>\n",
       "    <tr style=\"text-align: right;\">\n",
       "      <th></th>\n",
       "      <th>state</th>\n",
       "      <th>pc_name</th>\n",
       "      <th>candidate</th>\n",
       "      <th>sex</th>\n",
       "      <th>age</th>\n",
       "      <th>category</th>\n",
       "      <th>party</th>\n",
       "      <th>party_symbol</th>\n",
       "      <th>general_votes</th>\n",
       "      <th>postal_votes</th>\n",
       "      <th>total_votes</th>\n",
       "      <th>total_electors</th>\n",
       "    </tr>\n",
       "  </thead>\n",
       "  <tbody>\n",
       "    <tr>\n",
       "      <th>0</th>\n",
       "      <td>Andhra Pradesh</td>\n",
       "      <td>Adilabad</td>\n",
       "      <td>GODAM NAGESH</td>\n",
       "      <td>M</td>\n",
       "      <td>49.0</td>\n",
       "      <td>ST</td>\n",
       "      <td>TRS</td>\n",
       "      <td>Car</td>\n",
       "      <td>425762</td>\n",
       "      <td>5085</td>\n",
       "      <td>430847</td>\n",
       "      <td>1386282</td>\n",
       "    </tr>\n",
       "    <tr>\n",
       "      <th>1</th>\n",
       "      <td>Andhra Pradesh</td>\n",
       "      <td>Adilabad</td>\n",
       "      <td>NARESH</td>\n",
       "      <td>M</td>\n",
       "      <td>37.0</td>\n",
       "      <td>ST</td>\n",
       "      <td>INC</td>\n",
       "      <td>Hand</td>\n",
       "      <td>257994</td>\n",
       "      <td>1563</td>\n",
       "      <td>259557</td>\n",
       "      <td>1386282</td>\n",
       "    </tr>\n",
       "    <tr>\n",
       "      <th>2</th>\n",
       "      <td>Andhra Pradesh</td>\n",
       "      <td>Adilabad</td>\n",
       "      <td>RAMESH RATHOD</td>\n",
       "      <td>M</td>\n",
       "      <td>48.0</td>\n",
       "      <td>ST</td>\n",
       "      <td>TDP</td>\n",
       "      <td>Bicycle</td>\n",
       "      <td>182879</td>\n",
       "      <td>1319</td>\n",
       "      <td>184198</td>\n",
       "      <td>1386282</td>\n",
       "    </tr>\n",
       "    <tr>\n",
       "      <th>3</th>\n",
       "      <td>Andhra Pradesh</td>\n",
       "      <td>Adilabad</td>\n",
       "      <td>RATHOD SADASHIV</td>\n",
       "      <td>M</td>\n",
       "      <td>55.0</td>\n",
       "      <td>ST</td>\n",
       "      <td>BSP</td>\n",
       "      <td>Elephant</td>\n",
       "      <td>94363</td>\n",
       "      <td>57</td>\n",
       "      <td>94420</td>\n",
       "      <td>1386282</td>\n",
       "    </tr>\n",
       "    <tr>\n",
       "      <th>4</th>\n",
       "      <td>Andhra Pradesh</td>\n",
       "      <td>Adilabad</td>\n",
       "      <td>NETHAWATH RAMDAS</td>\n",
       "      <td>M</td>\n",
       "      <td>44.0</td>\n",
       "      <td>ST</td>\n",
       "      <td>IND</td>\n",
       "      <td>Auto- Rickshaw</td>\n",
       "      <td>41028</td>\n",
       "      <td>4</td>\n",
       "      <td>41032</td>\n",
       "      <td>1386282</td>\n",
       "    </tr>\n",
       "    <tr>\n",
       "      <th>5</th>\n",
       "      <td>Andhra Pradesh</td>\n",
       "      <td>Adilabad</td>\n",
       "      <td>PAWAR KRISHNA</td>\n",
       "      <td>M</td>\n",
       "      <td>33.0</td>\n",
       "      <td>ST</td>\n",
       "      <td>IND</td>\n",
       "      <td>Bat</td>\n",
       "      <td>5051</td>\n",
       "      <td>4</td>\n",
       "      <td>5055</td>\n",
       "      <td>1386282</td>\n",
       "    </tr>\n",
       "    <tr>\n",
       "      <th>6</th>\n",
       "      <td>Andhra Pradesh</td>\n",
       "      <td>Adilabad</td>\n",
       "      <td>BANKA SAHADEV</td>\n",
       "      <td>M</td>\n",
       "      <td>53.0</td>\n",
       "      <td>ST</td>\n",
       "      <td>IND</td>\n",
       "      <td>Gas Cylinder</td>\n",
       "      <td>4780</td>\n",
       "      <td>7</td>\n",
       "      <td>4787</td>\n",
       "      <td>1386282</td>\n",
       "    </tr>\n",
       "    <tr>\n",
       "      <th>7</th>\n",
       "      <td>Andhra Pradesh</td>\n",
       "      <td>Adilabad</td>\n",
       "      <td>MOSALI CHINNAIAH</td>\n",
       "      <td>M</td>\n",
       "      <td>40.0</td>\n",
       "      <td>ST</td>\n",
       "      <td>IND</td>\n",
       "      <td>Almirah</td>\n",
       "      <td>8842</td>\n",
       "      <td>17</td>\n",
       "      <td>8859</td>\n",
       "      <td>1386282</td>\n",
       "    </tr>\n",
       "    <tr>\n",
       "      <th>8</th>\n",
       "      <td>Andhra Pradesh</td>\n",
       "      <td>Adilabad</td>\n",
       "      <td>None of the Above</td>\n",
       "      <td>nan</td>\n",
       "      <td>NaN</td>\n",
       "      <td>nan</td>\n",
       "      <td>NOTA</td>\n",
       "      <td>NOTA</td>\n",
       "      <td>17021</td>\n",
       "      <td>63</td>\n",
       "      <td>17084</td>\n",
       "      <td>1386282</td>\n",
       "    </tr>\n",
       "  </tbody>\n",
       "</table>\n",
       "</div>"
      ],
      "text/plain": [
       "            state   pc_name          candidate  sex   age category party  \\\n",
       "0  Andhra Pradesh  Adilabad       GODAM NAGESH    M  49.0       ST   TRS   \n",
       "1  Andhra Pradesh  Adilabad             NARESH    M  37.0       ST   INC   \n",
       "2  Andhra Pradesh  Adilabad      RAMESH RATHOD    M  48.0       ST   TDP   \n",
       "3  Andhra Pradesh  Adilabad    RATHOD SADASHIV    M  55.0       ST   BSP   \n",
       "4  Andhra Pradesh  Adilabad   NETHAWATH RAMDAS    M  44.0       ST   IND   \n",
       "5  Andhra Pradesh  Adilabad      PAWAR KRISHNA    M  33.0       ST   IND   \n",
       "6  Andhra Pradesh  Adilabad      BANKA SAHADEV    M  53.0       ST   IND   \n",
       "7  Andhra Pradesh  Adilabad   MOSALI CHINNAIAH    M  40.0       ST   IND   \n",
       "8  Andhra Pradesh  Adilabad  None of the Above  nan   NaN      nan  NOTA   \n",
       "\n",
       "     party_symbol  general_votes  postal_votes  total_votes  total_electors  \n",
       "0             Car         425762          5085       430847         1386282  \n",
       "1            Hand         257994          1563       259557         1386282  \n",
       "2         Bicycle         182879          1319       184198         1386282  \n",
       "3        Elephant          94363            57        94420         1386282  \n",
       "4  Auto- Rickshaw          41028             4        41032         1386282  \n",
       "5             Bat           5051             4         5055         1386282  \n",
       "6    Gas Cylinder           4780             7         4787         1386282  \n",
       "7         Almirah           8842            17         8859         1386282  \n",
       "8            NOTA          17021            63        17084         1386282  "
      ]
     },
     "execution_count": 28,
     "metadata": {},
     "output_type": "execute_result"
    }
   ],
   "source": [
    "#data14[data14['pc_name']=='Adilabad'] # getting an error because the name is stored with a trialing space.\n",
    "cols = ['state','pc_name','candidate','category','sex','party','party_symbol']\n",
    "# trimming blankspaces\n",
    "for col in cols:\n",
    "    data14[col] = data14[col].astype('str')\n",
    "    data14[col] = data14[col].str.strip()\n",
    "\n",
    "for col in cols:\n",
    "    data19[col] = data19[col].astype('str')\n",
    "    data19[col] = data19[col].str.strip()\n",
    "    \n",
    "data14[data14['pc_name']=='Adilabad']"
   ]
  },
  {
   "cell_type": "code",
   "execution_count": 29,
   "id": "53377ed0-64b3-4528-bbc1-bf26b2d6415c",
   "metadata": {},
   "outputs": [],
   "source": [
    "# pcs14 = data14['pc_name'].unique()\n",
    "# pcs19 = data19['pc_name'].unique()\n",
    "# states14 = data14['state'].unique()\n",
    "# states19 = data19['state'].unique()\n",
    "\n",
    "# notice that states orissa, chattisgarh & telangana missing in 2014 data\n",
    "# also, note that 2014 has only 508 constituencies while 2019 has 540 constituencies\n",
    "# the reason is that the data related to constituencies in odisha (21), chattisgarh (11) are missing in 2014 data."
   ]
  },
  {
   "cell_type": "code",
   "execution_count": 30,
   "id": "82b3021c-dd7d-4573-8838-6bd0d29a9398",
   "metadata": {},
   "outputs": [
    {
     "data": {
      "text/html": [
       "<div>\n",
       "<style scoped>\n",
       "    .dataframe tbody tr th:only-of-type {\n",
       "        vertical-align: middle;\n",
       "    }\n",
       "\n",
       "    .dataframe tbody tr th {\n",
       "        vertical-align: top;\n",
       "    }\n",
       "\n",
       "    .dataframe thead th {\n",
       "        text-align: right;\n",
       "    }\n",
       "</style>\n",
       "<table border=\"1\" class=\"dataframe\">\n",
       "  <thead>\n",
       "    <tr style=\"text-align: right;\">\n",
       "      <th></th>\n",
       "      <th>state</th>\n",
       "      <th>pc_name</th>\n",
       "      <th>candidate</th>\n",
       "      <th>sex</th>\n",
       "      <th>age</th>\n",
       "      <th>category</th>\n",
       "      <th>party</th>\n",
       "      <th>party_symbol</th>\n",
       "      <th>general_votes</th>\n",
       "      <th>postal_votes</th>\n",
       "      <th>total_votes</th>\n",
       "      <th>total_electors</th>\n",
       "    </tr>\n",
       "  </thead>\n",
       "  <tbody>\n",
       "    <tr>\n",
       "      <th>0</th>\n",
       "      <td>Telangana</td>\n",
       "      <td>Adilabad</td>\n",
       "      <td>GODAM NAGESH</td>\n",
       "      <td>M</td>\n",
       "      <td>49.0</td>\n",
       "      <td>ST</td>\n",
       "      <td>TRS</td>\n",
       "      <td>Car</td>\n",
       "      <td>425762</td>\n",
       "      <td>5085</td>\n",
       "      <td>430847</td>\n",
       "      <td>1386282</td>\n",
       "    </tr>\n",
       "    <tr>\n",
       "      <th>1</th>\n",
       "      <td>Telangana</td>\n",
       "      <td>Adilabad</td>\n",
       "      <td>NARESH</td>\n",
       "      <td>M</td>\n",
       "      <td>37.0</td>\n",
       "      <td>ST</td>\n",
       "      <td>INC</td>\n",
       "      <td>Hand</td>\n",
       "      <td>257994</td>\n",
       "      <td>1563</td>\n",
       "      <td>259557</td>\n",
       "      <td>1386282</td>\n",
       "    </tr>\n",
       "    <tr>\n",
       "      <th>2</th>\n",
       "      <td>Telangana</td>\n",
       "      <td>Adilabad</td>\n",
       "      <td>RAMESH RATHOD</td>\n",
       "      <td>M</td>\n",
       "      <td>48.0</td>\n",
       "      <td>ST</td>\n",
       "      <td>TDP</td>\n",
       "      <td>Bicycle</td>\n",
       "      <td>182879</td>\n",
       "      <td>1319</td>\n",
       "      <td>184198</td>\n",
       "      <td>1386282</td>\n",
       "    </tr>\n",
       "    <tr>\n",
       "      <th>3</th>\n",
       "      <td>Telangana</td>\n",
       "      <td>Adilabad</td>\n",
       "      <td>RATHOD SADASHIV</td>\n",
       "      <td>M</td>\n",
       "      <td>55.0</td>\n",
       "      <td>ST</td>\n",
       "      <td>BSP</td>\n",
       "      <td>Elephant</td>\n",
       "      <td>94363</td>\n",
       "      <td>57</td>\n",
       "      <td>94420</td>\n",
       "      <td>1386282</td>\n",
       "    </tr>\n",
       "    <tr>\n",
       "      <th>4</th>\n",
       "      <td>Telangana</td>\n",
       "      <td>Adilabad</td>\n",
       "      <td>NETHAWATH RAMDAS</td>\n",
       "      <td>M</td>\n",
       "      <td>44.0</td>\n",
       "      <td>ST</td>\n",
       "      <td>IND</td>\n",
       "      <td>Auto- Rickshaw</td>\n",
       "      <td>41028</td>\n",
       "      <td>4</td>\n",
       "      <td>41032</td>\n",
       "      <td>1386282</td>\n",
       "    </tr>\n",
       "    <tr>\n",
       "      <th>...</th>\n",
       "      <td>...</td>\n",
       "      <td>...</td>\n",
       "      <td>...</td>\n",
       "      <td>...</td>\n",
       "      <td>...</td>\n",
       "      <td>...</td>\n",
       "      <td>...</td>\n",
       "      <td>...</td>\n",
       "      <td>...</td>\n",
       "      <td>...</td>\n",
       "      <td>...</td>\n",
       "      <td>...</td>\n",
       "    </tr>\n",
       "    <tr>\n",
       "      <th>8350</th>\n",
       "      <td>Puducherry</td>\n",
       "      <td>Puducherry</td>\n",
       "      <td>PUVALA NAGESWARA RAO</td>\n",
       "      <td>M</td>\n",
       "      <td>60.0</td>\n",
       "      <td>GEN</td>\n",
       "      <td>IND</td>\n",
       "      <td>Sewing Machine</td>\n",
       "      <td>465</td>\n",
       "      <td>0</td>\n",
       "      <td>465</td>\n",
       "      <td>901357</td>\n",
       "    </tr>\n",
       "    <tr>\n",
       "      <th>8351</th>\n",
       "      <td>Puducherry</td>\n",
       "      <td>Puducherry</td>\n",
       "      <td>K. MANJINI</td>\n",
       "      <td>M</td>\n",
       "      <td>41.0</td>\n",
       "      <td>GEN</td>\n",
       "      <td>IND</td>\n",
       "      <td>Coconut</td>\n",
       "      <td>767</td>\n",
       "      <td>0</td>\n",
       "      <td>767</td>\n",
       "      <td>901357</td>\n",
       "    </tr>\n",
       "    <tr>\n",
       "      <th>8352</th>\n",
       "      <td>Puducherry</td>\n",
       "      <td>Puducherry</td>\n",
       "      <td>R. VALAVAN</td>\n",
       "      <td>M</td>\n",
       "      <td>40.0</td>\n",
       "      <td>GEN</td>\n",
       "      <td>IND</td>\n",
       "      <td>Carrom Board</td>\n",
       "      <td>497</td>\n",
       "      <td>0</td>\n",
       "      <td>497</td>\n",
       "      <td>901357</td>\n",
       "    </tr>\n",
       "    <tr>\n",
       "      <th>8353</th>\n",
       "      <td>Puducherry</td>\n",
       "      <td>Puducherry</td>\n",
       "      <td>V. VIJAYA</td>\n",
       "      <td>F</td>\n",
       "      <td>29.0</td>\n",
       "      <td>GEN</td>\n",
       "      <td>IND</td>\n",
       "      <td>Green Chilli</td>\n",
       "      <td>746</td>\n",
       "      <td>0</td>\n",
       "      <td>746</td>\n",
       "      <td>901357</td>\n",
       "    </tr>\n",
       "    <tr>\n",
       "      <th>8354</th>\n",
       "      <td>Puducherry</td>\n",
       "      <td>Puducherry</td>\n",
       "      <td>None of the Above</td>\n",
       "      <td>nan</td>\n",
       "      <td>NaN</td>\n",
       "      <td>nan</td>\n",
       "      <td>NOTA</td>\n",
       "      <td>NOTA</td>\n",
       "      <td>22267</td>\n",
       "      <td>1</td>\n",
       "      <td>22268</td>\n",
       "      <td>901357</td>\n",
       "    </tr>\n",
       "  </tbody>\n",
       "</table>\n",
       "<p>8355 rows × 12 columns</p>\n",
       "</div>"
      ],
      "text/plain": [
       "           state     pc_name             candidate  sex   age category party  \\\n",
       "0      Telangana    Adilabad          GODAM NAGESH    M  49.0       ST   TRS   \n",
       "1      Telangana    Adilabad                NARESH    M  37.0       ST   INC   \n",
       "2      Telangana    Adilabad         RAMESH RATHOD    M  48.0       ST   TDP   \n",
       "3      Telangana    Adilabad       RATHOD SADASHIV    M  55.0       ST   BSP   \n",
       "4      Telangana    Adilabad      NETHAWATH RAMDAS    M  44.0       ST   IND   \n",
       "...          ...         ...                   ...  ...   ...      ...   ...   \n",
       "8350  Puducherry  Puducherry  PUVALA NAGESWARA RAO    M  60.0      GEN   IND   \n",
       "8351  Puducherry  Puducherry            K. MANJINI    M  41.0      GEN   IND   \n",
       "8352  Puducherry  Puducherry            R. VALAVAN    M  40.0      GEN   IND   \n",
       "8353  Puducherry  Puducherry             V. VIJAYA    F  29.0      GEN   IND   \n",
       "8354  Puducherry  Puducherry     None of the Above  nan   NaN      nan  NOTA   \n",
       "\n",
       "        party_symbol  general_votes  postal_votes  total_votes  total_electors  \n",
       "0                Car         425762          5085       430847         1386282  \n",
       "1               Hand         257994          1563       259557         1386282  \n",
       "2            Bicycle         182879          1319       184198         1386282  \n",
       "3           Elephant          94363            57        94420         1386282  \n",
       "4     Auto- Rickshaw          41028             4        41032         1386282  \n",
       "...              ...            ...           ...          ...             ...  \n",
       "8350  Sewing Machine            465             0          465          901357  \n",
       "8351         Coconut            767             0          767          901357  \n",
       "8352    Carrom Board            497             0          497          901357  \n",
       "8353    Green Chilli            746             0          746          901357  \n",
       "8354            NOTA          22267             1        22268          901357  \n",
       "\n",
       "[8355 rows x 12 columns]"
      ]
     },
     "execution_count": 30,
     "metadata": {},
     "output_type": "execute_result"
    }
   ],
   "source": [
    "# so, we must identify constituencies from 2019 for orissa, chattisgarh & telangana and change corresponding states in 2014\n",
    "pcs_odisha = data19.loc[data19['state']=='Odisha','pc_name'].unique()\n",
    "for constituency in pcs_odisha:\n",
    "    data14.loc[data14['pc_name']==constituency,'state'] = 'Odisha'\n",
    "\n",
    "pcs_Chhattisgarh = data19.loc[data19['state']=='Chhattisgarh','pc_name'].unique()\n",
    "for constituency in pcs_Chhattisgarh:\n",
    "    data14.loc[data14['pc_name']==constituency,'state'] = 'Chhattisgarh'\n",
    "\n",
    "pcs_Telangana = data19.loc[data19['state']=='Telangana','pc_name'].unique()\n",
    "for constituency in pcs_Telangana:\n",
    "    data14.loc[data14['pc_name']==constituency,'state'] = 'Telangana'\n",
    "\n",
    "data14"
   ]
  },
  {
   "cell_type": "code",
   "execution_count": 31,
   "id": "fa2ea10f-d05c-4015-9239-46f79384e9cc",
   "metadata": {},
   "outputs": [
    {
     "name": "stdout",
     "output_type": "stream",
     "text": [
      "state       34\n",
      "pc_name    508\n",
      "dtype: int64\n",
      "\n",
      "state       36\n",
      "pc_name    540\n",
      "dtype: int64\n"
     ]
    }
   ],
   "source": [
    "# check if constituencies and states changed from 2014 to 2019\n",
    "regions14 = data14[['state','pc_name']].nunique()\n",
    "regions19 = data19[['state','pc_name']].nunique()\n",
    "print(regions14) # 34 no odisha, chattisgarh\n",
    "print()\n",
    "print(regions19)"
   ]
  },
  {
   "cell_type": "code",
   "execution_count": null,
   "id": "677d6b74-1c0e-4e48-8c27-893298794dd3",
   "metadata": {},
   "outputs": [],
   "source": []
  },
  {
   "cell_type": "code",
   "execution_count": null,
   "id": "9d453eed-5a93-45b7-9db3-529d6d8cf9ad",
   "metadata": {},
   "outputs": [],
   "source": []
  },
  {
   "cell_type": "code",
   "execution_count": 32,
   "id": "1cc16e19-dfbe-4deb-b138-79bb5bc4ec82",
   "metadata": {},
   "outputs": [],
   "source": [
    "# 3 constituencies each are in 2 different states with same name. so separating them\n",
    "data14.loc[(data14['state']=='Himachal Pradesh') & (data14['pc_name']=='hamirpur'),'pc_name'] = 'hamirpur_HP'\n",
    "data14.loc[(data14['state']=='Uttar Pradesh') & (data14['pc_name']=='hamirpur'),'pc_name'] = 'hamirpur_UP'\n",
    "\n",
    "data14.loc[(data14['state']=='Bihar') & (data14['pc_name']=='aurangabad'),'pc_name'] = 'aurangabad_Bihar'\n",
    "data14.loc[(data14['state']=='Maharastra') & (data14['pc_name']=='aurangabad'),'pc_name'] = 'aurangabad_Maharastra'\n",
    "\n",
    "data14.loc[(data14['state']=='Bihar') & (data14['pc_name']=='maharajganj'),'pc_name'] = 'maharajganj_Bihar'\n",
    "data14.loc[(data14['state']=='Uttar Pradesh') & (data14['pc_name']=='maharajganj'),'pc_name'] = 'maharajganj_UP'"
   ]
  },
  {
   "cell_type": "code",
   "execution_count": 33,
   "id": "2161041f-853c-4cf3-a8d2-e224a6327d65",
   "metadata": {},
   "outputs": [],
   "source": [
    "# same for data19 \n",
    "data19.loc[(data19['state']=='Himachal Pradesh') & (data19['pc_name']=='hamirpur'),'pc_name'] = 'hamirpur_HP'\n",
    "data19.loc[(data19['state']=='Uttar Pradesh') & (data19['pc_name']=='hamirpur'),'pc_name'] = 'hamirpur_UP'\n",
    "\n",
    "data19.loc[(data19['state']=='Bihar') & (data19['pc_name']=='aurangabad'),'pc_name'] = 'aurangabad_Bihar'\n",
    "data19.loc[(data19['state']=='Maharastra') & (data19['pc_name']=='aurangabad'),'pc_name'] = 'aurangabad_Maharastra'\n",
    "\n",
    "data19.loc[(data19['state']=='Bihar') & (data19['pc_name']=='maharajganj'),'pc_name'] = 'maharajganj_Bihar'\n",
    "data19.loc[(data19['state']=='Uttar Pradesh') & (data19['pc_name']=='maharajganj'),'pc_name'] = 'maharajganj_UP'"
   ]
  },
  {
   "cell_type": "markdown",
   "id": "3ea138ae-d554-4928-9257-cacb6ac7f224",
   "metadata": {},
   "source": [
    "----- data cleaning completed ----"
   ]
  },
  {
   "cell_type": "code",
   "execution_count": null,
   "id": "d41200bd-e4f3-4a87-88e1-b4305a6f36f0",
   "metadata": {},
   "outputs": [],
   "source": []
  },
  {
   "cell_type": "code",
   "execution_count": 35,
   "id": "3ea5d9cc-2230-47d0-bac6-95960741e3d7",
   "metadata": {},
   "outputs": [
    {
     "data": {
      "text/plain": [
       "state\n",
       "Himachal Pradesh             4\n",
       "Manipur                      2\n",
       "Tripura                      2\n",
       "Arunachal Pradesh            2\n",
       "Goa                          2\n",
       "Meghalaya                    2\n",
       "Sikkim                       1\n",
       "Dadra & Nagar Haveli         1\n",
       "Puducherry                   1\n",
       "Nagaland                     1\n",
       "Mizoram                      1\n",
       "Daman & Diu                  1\n",
       "Chandigarh                   1\n",
       "Lakshadweep                  1\n",
       "Andaman & Nicobar Islands    1\n",
       "Name: pc_name, dtype: int64"
      ]
     },
     "execution_count": 35,
     "metadata": {},
     "output_type": "execute_result"
    }
   ],
   "source": [
    "# PRIMARY ANALYSIS\n",
    "\n",
    "# states with highest & least number of constituncies state wise\n",
    "constituencies_14 = data14[['state','pc_name']].drop_duplicates()\n",
    "constituencies_14 = constituencies_14.groupby('state')['pc_name'].count().sort_values(ascending=False)\n",
    "constituencies_14.tail(15)"
   ]
  },
  {
   "cell_type": "code",
   "execution_count": null,
   "id": "6a8a7354-8ae3-4461-a198-eef62a8bd77e",
   "metadata": {},
   "outputs": [],
   "source": []
  },
  {
   "cell_type": "code",
   "execution_count": 36,
   "id": "10d99a81-b01e-465b-8f61-f6c8c35955a7",
   "metadata": {},
   "outputs": [],
   "source": [
    "# constituency wise electoral roll"
   ]
  },
  {
   "cell_type": "code",
   "execution_count": 55,
   "id": "6de4a82a-ae65-4f5c-a8ce-8d2282df759f",
   "metadata": {},
   "outputs": [
    {
     "name": "stdout",
     "output_type": "stream",
     "text": [
      "            state  total_electors\n",
      "31  Uttar Pradesh     138810557.0\n",
      "18    Maharashtra      80798823.0\n",
      "4           Bihar      63800160.0\n",
      "33    West Bengal      62833113.0\n",
      "28     Tamil Nadu      55114867.0\n",
      "\n",
      "                        state  total_electors\n",
      "27                     Sikkim        370770.0\n",
      "0   Andaman & Nicobar Islands        269360.0\n",
      "6        Dadra & Nagar Haveli        196597.0\n",
      "7                 Daman & Diu        111827.0\n",
      "16                Lakshadweep         49922.0\n",
      "\n",
      "             state           pc_name  total_electors\n",
      "373      Telangana        Malkajgiri       3183083.0\n",
      "149      Karnataka   Bangalore North       2401472.0\n",
      "417  Uttar Pradesh         Ghaziabad       2357553.0\n",
      "283   NCT OF Delhi  NORTH WEST DELHI       2194343.0\n",
      "150      Karnataka   Bangalore Rural       2190398.0\n",
      "\n",
      "                         state                    pc_name  total_electors\n",
      "0    Andaman & Nicobar Islands  Andaman & Nicobar Islands        269360.0\n",
      "84        Dadra & Nagar Haveli       Dadar & Nagar Haveli        196597.0\n",
      "131            Jammu & Kashmir                     Ladakh        166763.0\n",
      "85                 Daman & Diu                Daman & diu        111827.0\n",
      "196                Lakshadweep                Lakshadweep         49922.0\n"
     ]
    }
   ],
   "source": [
    "electors_constituency14 = pd.DataFrame(data14.groupby(['state','pc_name'])['total_electors'].mean()).reset_index().sort_values(by='total_electors',ascending=False)\n",
    "electors_state14 = pd.DataFrame(electors_constituency14.groupby('state')['total_electors'].sum()).reset_index().sort_values(by='total_electors',ascending=False)\n",
    "print(electors_state14.head()) # top 5 states with highest electoral roll\n",
    "print()\n",
    "print(electors_state14.tail()) # bottom 5 states\n",
    "print()\n",
    "print(electors_constituency14.head())\n",
    "print()\n",
    "print(electors_constituency14.tail())"
   ]
  },
  {
   "cell_type": "code",
   "execution_count": null,
   "id": "b5ee2e54-76e2-41ce-a63b-627a4e8fe687",
   "metadata": {},
   "outputs": [],
   "source": []
  },
  {
   "cell_type": "code",
   "execution_count": 57,
   "id": "ae840880-7ed2-444a-9d38-5ba1794d257a",
   "metadata": {},
   "outputs": [
    {
     "name": "stdout",
     "output_type": "stream",
     "text": [
      "            state  total_electors\n",
      "33  Uttar Pradesh     146134603.0\n",
      "19    Maharashtra      88676946.0\n",
      "4           Bihar      71216290.0\n",
      "35    West Bengal      70001284.0\n",
      "30     Tamil Nadu      59941832.0\n",
      "\n",
      "                        state  total_electors\n",
      "29                     Sikkim        434128.0\n",
      "0   Andaman & Nicobar Islands        318471.0\n",
      "7        Dadra & Nagar Haveli        250029.0\n",
      "8                 Daman & Diu        121740.0\n",
      "17                Lakshadweep         55189.0\n",
      "\n",
      "             state          pc_name  total_electors\n",
      "405      Telangana       Malkajgiri       3150313.0\n",
      "159      Karnataka  Bangalore North       2849250.0\n",
      "449  Uttar Pradesh        Ghaziabad       2728978.0\n",
      "160      Karnataka  Bangalore Rural       2497458.0\n",
      "399      Telangana         CHEVELLA       2443112.0\n",
      "\n",
      "                         state                    pc_name  total_electors\n",
      "0    Andaman & Nicobar Islands  Andaman & Nicobar Islands        318471.0\n",
      "94        Dadra & Nagar Haveli     Dadra And Nagar Haveli        250029.0\n",
      "141            Jammu & Kashmir                     Ladakh        179232.0\n",
      "95                 Daman & Diu                Daman & diu        121740.0\n",
      "206                Lakshadweep                Lakshadweep         55189.0\n"
     ]
    }
   ],
   "source": [
    "electors_constituency19 = pd.DataFrame(data19.groupby(['state','pc_name'])['total_electors'].mean()).reset_index().sort_values(by='total_electors',ascending=False)\n",
    "electors_state19 = pd.DataFrame(electors_constituency19.groupby('state')['total_electors'].sum()).reset_index().sort_values(by='total_electors',ascending=False)\n",
    "print(electors_state19.head()) # top 5 states with highest electoral roll\n",
    "print()\n",
    "print(electors_state19.tail()) # bottom 5 states\n",
    "print()\n",
    "print(electors_constituency19.head())\n",
    "print()\n",
    "print(electors_constituency19.tail())"
   ]
  },
  {
   "cell_type": "code",
   "execution_count": null,
   "id": "e7c6026c-0665-4da5-a588-6017ac065fd2",
   "metadata": {},
   "outputs": [],
   "source": []
  },
  {
   "cell_type": "code",
   "execution_count": 39,
   "id": "ad35971b-36b0-49ff-b94d-0135ab3077be",
   "metadata": {},
   "outputs": [],
   "source": [
    "# data 2014 analysis"
   ]
  },
  {
   "cell_type": "code",
   "execution_count": 59,
   "id": "56f93662-39ec-4240-8d89-35f32c064b57",
   "metadata": {},
   "outputs": [
    {
     "name": "stdout",
     "output_type": "stream",
     "text": [
      "         pc_name        state  vote_turnout_ratio\n",
      "144       Dhubri        Assam                88.0\n",
      "464       Tamluk  West Bengal                87.0\n",
      "344     Nagaland     Nagaland                87.0\n",
      "255       Kanthi  West Bengal                86.0\n",
      "289  Lakshadweep  Lakshadweep                86.0\n",
      "\n",
      "         pc_name            state  vote_turnout_ratio\n",
      "381  Patna Sahib            Bihar                45.0\n",
      "248       Kalyan      Maharashtra                42.0\n",
      "70     Baramulla  Jammu & Kashmir                39.0\n",
      "29      Anantnag  Jammu & Kashmir                28.0\n",
      "456     Srinagar  Jammu & Kashmir                25.0\n"
     ]
    }
   ],
   "source": [
    "constituencywisevoted14 = data14.groupby(['pc_name','state'])['total_votes'].sum()\n",
    "constituencywisevoters14 = data14.groupby('pc_name')['total_electors'].mean()\n",
    "# total_voters_in_india14 = constituencywisevoters.sum()\n",
    "#total_voted_in_india14 = data14['total_votes'].sum()\n",
    "constituency_vote_turnout_ratio14 = pd.DataFrame(np.floor(100*constituencywisevoted14/constituencywisevoters14)).reset_index()\n",
    "constituency_vote_turnout_ratio14.columns = ['pc_name','state','vote_turnout_ratio']\n",
    "constituency_vote_turnout_ratio14 = constituency_vote_turnout_ratio14.sort_values(by='vote_turnout_ratio',ascending=False)\n",
    "top5constituencies14 = constituency_vote_turnout_ratio14.head() # something wrong. 2 constituencies with same name\n",
    "bottom5constituencies14 = constituency_vote_turnout_ratio14.tail()\n",
    "print(top5constituencies14)\n",
    "print()\n",
    "print(bottom5constituencies14)"
   ]
  },
  {
   "cell_type": "code",
   "execution_count": 41,
   "id": "b286efb2-0908-4505-a116-2833e73d8f64",
   "metadata": {},
   "outputs": [
    {
     "data": {
      "text/html": [
       "<div>\n",
       "<style scoped>\n",
       "    .dataframe tbody tr th:only-of-type {\n",
       "        vertical-align: middle;\n",
       "    }\n",
       "\n",
       "    .dataframe tbody tr th {\n",
       "        vertical-align: top;\n",
       "    }\n",
       "\n",
       "    .dataframe thead th {\n",
       "        text-align: right;\n",
       "    }\n",
       "</style>\n",
       "<table border=\"1\" class=\"dataframe\">\n",
       "  <thead>\n",
       "    <tr style=\"text-align: right;\">\n",
       "      <th></th>\n",
       "      <th>pc_name</th>\n",
       "      <th>state</th>\n",
       "      <th>vote_turnout_ratio</th>\n",
       "    </tr>\n",
       "  </thead>\n",
       "  <tbody>\n",
       "    <tr>\n",
       "      <th>381</th>\n",
       "      <td>Patna Sahib</td>\n",
       "      <td>Bihar</td>\n",
       "      <td>45.0</td>\n",
       "    </tr>\n",
       "    <tr>\n",
       "      <th>248</th>\n",
       "      <td>Kalyan</td>\n",
       "      <td>Maharashtra</td>\n",
       "      <td>42.0</td>\n",
       "    </tr>\n",
       "    <tr>\n",
       "      <th>70</th>\n",
       "      <td>Baramulla</td>\n",
       "      <td>Jammu &amp; Kashmir</td>\n",
       "      <td>39.0</td>\n",
       "    </tr>\n",
       "    <tr>\n",
       "      <th>29</th>\n",
       "      <td>Anantnag</td>\n",
       "      <td>Jammu &amp; Kashmir</td>\n",
       "      <td>28.0</td>\n",
       "    </tr>\n",
       "    <tr>\n",
       "      <th>456</th>\n",
       "      <td>Srinagar</td>\n",
       "      <td>Jammu &amp; Kashmir</td>\n",
       "      <td>25.0</td>\n",
       "    </tr>\n",
       "  </tbody>\n",
       "</table>\n",
       "</div>"
      ],
      "text/plain": [
       "         pc_name            state  vote_turnout_ratio\n",
       "381  Patna Sahib            Bihar                45.0\n",
       "248       Kalyan      Maharashtra                42.0\n",
       "70     Baramulla  Jammu & Kashmir                39.0\n",
       "29      Anantnag  Jammu & Kashmir                28.0\n",
       "456     Srinagar  Jammu & Kashmir                25.0"
      ]
     },
     "execution_count": 41,
     "metadata": {},
     "output_type": "execute_result"
    }
   ],
   "source": [
    "bottom5constituencies14"
   ]
  },
  {
   "cell_type": "code",
   "execution_count": 42,
   "id": "f10a632b-ae58-4cc9-85a1-81ceb33dc108",
   "metadata": {},
   "outputs": [
    {
     "data": {
      "text/plain": [
       "state\n",
       "Andaman & Nicobar Islands      269360\n",
       "Andhra Pradesh               38946048\n",
       "Arunachal Pradesh              759344\n",
       "Assam                        18837713\n",
       "Bihar                        63800160\n",
       "Name: total_electors, dtype: int64"
      ]
     },
     "execution_count": 42,
     "metadata": {},
     "output_type": "execute_result"
    }
   ],
   "source": [
    "subsetdata14 = data14[['state','pc_name','total_electors']].drop_duplicates()\n",
    "statewiseelectors14 = subsetdata14.groupby('state')['total_electors'].sum()\n",
    "statewiseelectors14.head()"
   ]
  },
  {
   "cell_type": "code",
   "execution_count": 61,
   "id": "751008f7-f130-4e94-bd2a-d796ed9cf1ec",
   "metadata": {},
   "outputs": [
    {
     "name": "stdout",
     "output_type": "stream",
     "text": [
      "state\n",
      "Nagaland                87.0\n",
      "Lakshadweep             86.0\n",
      "Tripura                 84.0\n",
      "Dadra & Nagar Haveli    84.0\n",
      "Sikkim                  83.0\n",
      "dtype: float64\n",
      "\n",
      "state\n",
      "Jammu & Kashmir    49.0\n",
      "Bihar              56.0\n",
      "Uttar Pradesh      58.0\n",
      "Maharashtra        60.0\n",
      "Mizoram            61.0\n",
      "dtype: float64\n"
     ]
    }
   ],
   "source": [
    "statewisevoted14 = data14.groupby('state')['total_votes'].sum()\n",
    "state_vote_turnout_ratio14 = np.floor(100*statewisevoted14/statewiseelectors14)\n",
    "print(state_vote_turnout_ratio14.sort_values(ascending=False).head())\n",
    "print()\n",
    "print(state_vote_turnout_ratio14.sort_values().head())"
   ]
  },
  {
   "cell_type": "code",
   "execution_count": null,
   "id": "6de06f78-877a-43bc-a408-18d58d30c327",
   "metadata": {},
   "outputs": [],
   "source": []
  },
  {
   "cell_type": "code",
   "execution_count": 44,
   "id": "1ba5d258-43ae-457d-8b77-d7478c76c710",
   "metadata": {},
   "outputs": [
    {
     "data": {
      "text/html": [
       "<div>\n",
       "<style scoped>\n",
       "    .dataframe tbody tr th:only-of-type {\n",
       "        vertical-align: middle;\n",
       "    }\n",
       "\n",
       "    .dataframe tbody tr th {\n",
       "        vertical-align: top;\n",
       "    }\n",
       "\n",
       "    .dataframe thead th {\n",
       "        text-align: right;\n",
       "    }\n",
       "</style>\n",
       "<table border=\"1\" class=\"dataframe\">\n",
       "  <thead>\n",
       "    <tr style=\"text-align: right;\">\n",
       "      <th></th>\n",
       "      <th>state/UT</th>\n",
       "      <th>pc_name</th>\n",
       "      <th>candidate</th>\n",
       "      <th>margin</th>\n",
       "    </tr>\n",
       "  </thead>\n",
       "  <tbody>\n",
       "    <tr>\n",
       "      <th>112</th>\n",
       "      <td>Gujarat</td>\n",
       "      <td>Vadodara</td>\n",
       "      <td>NARENDRA MODI</td>\n",
       "      <td>570128</td>\n",
       "    </tr>\n",
       "    <tr>\n",
       "      <th>417</th>\n",
       "      <td>Uttar Pradesh</td>\n",
       "      <td>Ghaziabad</td>\n",
       "      <td>VIJAY KUMAR SINGH</td>\n",
       "      <td>567260</td>\n",
       "    </tr>\n",
       "    <tr>\n",
       "      <th>104</th>\n",
       "      <td>Gujarat</td>\n",
       "      <td>Navsari</td>\n",
       "      <td>C. R. PATIL</td>\n",
       "      <td>558116</td>\n",
       "    </tr>\n",
       "    <tr>\n",
       "      <th>313</th>\n",
       "      <td>Rajasthan</td>\n",
       "      <td>Jaipur</td>\n",
       "      <td>RAMCHARAN BOHARA</td>\n",
       "      <td>539345</td>\n",
       "    </tr>\n",
       "    <tr>\n",
       "      <th>110</th>\n",
       "      <td>Gujarat</td>\n",
       "      <td>Surat</td>\n",
       "      <td>DARSHANA VIKRAM JARDOSH</td>\n",
       "      <td>533190</td>\n",
       "    </tr>\n",
       "  </tbody>\n",
       "</table>\n",
       "</div>"
      ],
      "text/plain": [
       "          state/UT    pc_name                candidate  margin\n",
       "112        Gujarat   Vadodara            NARENDRA MODI  570128\n",
       "417  Uttar Pradesh  Ghaziabad        VIJAY KUMAR SINGH  567260\n",
       "104        Gujarat    Navsari              C. R. PATIL  558116\n",
       "313      Rajasthan     Jaipur         RAMCHARAN BOHARA  539345\n",
       "110        Gujarat      Surat  DARSHANA VIKRAM JARDOSH  533190"
      ]
     },
     "execution_count": 44,
     "metadata": {},
     "output_type": "execute_result"
    }
   ],
   "source": [
    "# top 5 winning candidates by margin\n",
    "top2 = data14.groupby(['state','pc_name'])['total_votes'].nlargest(2).reset_index()\n",
    "top2 = pd.merge(top2,data14,how='left',left_on='level_2',right_index=True)[['state_x','pc_name_x','candidate','total_votes_y']]\n",
    "top2\n",
    "\n",
    "list = []\n",
    "for i in range(0,len(top2)-1,2):\n",
    "    state_i = top2['state_x'][i]\n",
    "    pc_name_i = top2['pc_name_x'][i]\n",
    "    candidate_i = top2['candidate'][i]\n",
    "    margin_i = top2['total_votes_y'][i]-top2['total_votes_y'][i+1]\n",
    "    list.append([state_i,pc_name_i,candidate_i,margin_i])\n",
    "margin_table14 = pd.DataFrame(list)\n",
    "margin_table14.columns = ['state/UT','pc_name','candidate','margin']\n",
    "margins14 = margin_table14.sort_values(by='margin',ascending=False).head()\n",
    "margins14"
   ]
  },
  {
   "cell_type": "code",
   "execution_count": null,
   "id": "1e373bcf-d186-4a04-a182-9f139ca887a3",
   "metadata": {},
   "outputs": [],
   "source": []
  },
  {
   "cell_type": "code",
   "execution_count": 45,
   "id": "5b8c34ab-02fc-4a23-8f2f-6da4f0607eb5",
   "metadata": {},
   "outputs": [
    {
     "name": "stdout",
     "output_type": "stream",
     "text": [
      "                          state  total_votes  total_electors  nota_percent\n",
      "pc_name                                                                   \n",
      "Nilgiris             Tamil Nadu        46559         1269173           3.0\n",
      "Banswara              Rajasthan        34404         1698244           2.0\n",
      "Dahod                   Gujarat        32305         1411765           2.0\n",
      "RATLAM           Madhya Pradesh        30364         1702576           1.0\n",
      "Samastipur (SC)           Bihar        29211         1504451           1.0\n",
      "\n",
      "                 state  total_votes  total_electors  nota_percent\n",
      "pc_name                                                          \n",
      "Tura         Meghalaya        19185          586501           3.0\n",
      "Nilgiris    Tamil Nadu        46559         1269173           3.0\n",
      "Puducherry  Puducherry        22268          901357           2.0\n",
      "Banswara     Rajasthan        34404         1698244           2.0\n",
      "Khunti       Jharkhand        23816         1111856           2.0\n"
     ]
    }
   ],
   "source": [
    "# NOTA \n",
    "nota_votes = data14[ data14['party'] == 'NOTA' ][['pc_name','state','total_votes','total_electors']].set_index('pc_name')\n",
    "nota_votes['nota_percent'] = np.floor(100*nota_votes['total_votes']/nota_votes['total_electors'])\n",
    "nota_highest_by_number = nota_votes.sort_values(by='total_votes',ascending=False).head(5) # by absolute number\n",
    "nota_highest_by_percent = nota_votes.sort_values(by='nota_percent',ascending=False).head(5) # by percentage\n",
    "print(nota_highest_by_number)\n",
    "print()\n",
    "print(nota_highest_by_percent)"
   ]
  },
  {
   "cell_type": "code",
   "execution_count": null,
   "id": "e110a156-e7de-4969-af73-3907dfc3ba82",
   "metadata": {},
   "outputs": [],
   "source": []
  },
  {
   "cell_type": "code",
   "execution_count": 63,
   "id": "9c810b4c-958b-44a8-b78d-974cb7d276c4",
   "metadata": {},
   "outputs": [
    {
     "name": "stdout",
     "output_type": "stream",
     "text": [
      "520018484 782547068.0 66.45\n",
      "       total_votes\n",
      "party             \n",
      "BJP      161047761\n",
      "INC       96641749\n",
      "BSP       22434033\n",
      "AITC      21215661\n",
      "SP        18632568\n",
      "...            ...\n",
      "ABAS           296\n",
      "VSP            263\n",
      "RJAVP          259\n",
      "RaJPa          217\n",
      "BVLP           161\n",
      "\n",
      "[453 rows x 1 columns]\n"
     ]
    }
   ],
   "source": [
    "# PARTY WISE SPLIT\n",
    "totalvotes14 = pd.DataFrame(data14.groupby('party')['total_votes'].sum().sort_values(ascending=False)) # party-votes_won\n",
    "#totalvotes = totalvotes.loc[totalvotes['']>1000]\n",
    "\n",
    "total_voters_in_india14 = np.floor(constituencywisevoters14).sum() # no. of voters overall in india\n",
    "total_voted_in_india14 = data14['total_votes'].sum()  # number of voted overall in india\n",
    "overall_voter_turnout14 = np.round(100*total_voted_in_india14/total_voters_in_india14,2)\n",
    "print(total_voted_in_india14, total_voters_in_india14, overall_voter_turnout14)\n",
    "print(totalvotes14)\n",
    "\n",
    "totalvotes14['vote_percent_by_voted'] = 100*np.round(totalvotes14/total_voted_in_india14,2)\n",
    "#totalvotes14['vote_percent_by_voters'] = totalvotes14/total_voters_in_india14\n",
    "totalvotes14 = totalvotes14.sort_values(by='vote_percent_by_voted',ascending=False)"
   ]
  },
  {
   "cell_type": "code",
   "execution_count": 65,
   "id": "3c1579d4-fbf6-4483-ae48-52b87f1f805f",
   "metadata": {},
   "outputs": [
    {
     "data": {
      "image/png": "[encoded data removed]",
      "text/plain": [
       "<Figure size 640x480 with 1 Axes>"
      ]
     },
     "metadata": {},
     "output_type": "display_data"
    },
    {
     "data": {
      "text/plain": [
       "<Figure size 640x480 with 0 Axes>"
      ]
     },
     "metadata": {},
     "output_type": "display_data"
    }
   ],
   "source": [
    "# keeping pie plot simple\n",
    "voteshareforplot14 = totalvotes14.head(10).reset_index()\n",
    "voteshareforplot14.loc[len(voteshareforplot14)]=['OTHERS',119487048,23.0]\n",
    "voteshareforplot14\n",
    "\n",
    "plt.pie(voteshareforplot14['vote_percent_by_voted'],labels=voteshareforplot14['vote_percent_by_voted'],startangle=90,counterclock=False)\n",
    "plt.legend(voteshareforplot14['party'],loc='best',bbox_to_anchor=(1,1,0.4,0))\n",
    "plt.title('party wise vote percent at national level 2014 elections')\n",
    "plt.show()\n",
    "plt.savefig('2014votesplitnationallevel')"
   ]
  },
  {
   "cell_type": "code",
   "execution_count": null,
   "id": "2ce208f6-1858-47a2-ab61-79da7cef62fd",
   "metadata": {},
   "outputs": [],
   "source": []
  },
  {
   "cell_type": "code",
   "execution_count": 67,
   "id": "5fbf8cd0-c87a-4a33-bea0-8b45a942a3f0",
   "metadata": {},
   "outputs": [
    {
     "data": {
      "text/html": [
       "<div>\n",
       "<style scoped>\n",
       "    .dataframe tbody tr th:only-of-type {\n",
       "        vertical-align: middle;\n",
       "    }\n",
       "\n",
       "    .dataframe tbody tr th {\n",
       "        vertical-align: top;\n",
       "    }\n",
       "\n",
       "    .dataframe thead th {\n",
       "        text-align: right;\n",
       "    }\n",
       "</style>\n",
       "<table border=\"1\" class=\"dataframe\">\n",
       "  <thead>\n",
       "    <tr style=\"text-align: right;\">\n",
       "      <th></th>\n",
       "      <th>state</th>\n",
       "      <th>party</th>\n",
       "      <th>total_votes</th>\n",
       "    </tr>\n",
       "  </thead>\n",
       "  <tbody>\n",
       "    <tr>\n",
       "      <th>0</th>\n",
       "      <td>Andaman &amp; Nicobar Islands</td>\n",
       "      <td>AAAP</td>\n",
       "      <td>3737</td>\n",
       "    </tr>\n",
       "    <tr>\n",
       "      <th>1</th>\n",
       "      <td>Andaman &amp; Nicobar Islands</td>\n",
       "      <td>AIFB</td>\n",
       "      <td>225</td>\n",
       "    </tr>\n",
       "    <tr>\n",
       "      <th>2</th>\n",
       "      <td>Andaman &amp; Nicobar Islands</td>\n",
       "      <td>AITC</td>\n",
       "      <td>2283</td>\n",
       "    </tr>\n",
       "    <tr>\n",
       "      <th>3</th>\n",
       "      <td>Andaman &amp; Nicobar Islands</td>\n",
       "      <td>BJP</td>\n",
       "      <td>90969</td>\n",
       "    </tr>\n",
       "    <tr>\n",
       "      <th>4</th>\n",
       "      <td>Andaman &amp; Nicobar Islands</td>\n",
       "      <td>BSP</td>\n",
       "      <td>1139</td>\n",
       "    </tr>\n",
       "    <tr>\n",
       "      <th>...</th>\n",
       "      <td>...</td>\n",
       "      <td>...</td>\n",
       "      <td>...</td>\n",
       "    </tr>\n",
       "    <tr>\n",
       "      <th>1058</th>\n",
       "      <td>West Bengal</td>\n",
       "      <td>SUCI</td>\n",
       "      <td>350616</td>\n",
       "    </tr>\n",
       "    <tr>\n",
       "      <th>1059</th>\n",
       "      <td>West Bengal</td>\n",
       "      <td>SWJP</td>\n",
       "      <td>5340</td>\n",
       "    </tr>\n",
       "    <tr>\n",
       "      <th>1060</th>\n",
       "      <td>West Bengal</td>\n",
       "      <td>TRMRPPI</td>\n",
       "      <td>1071</td>\n",
       "    </tr>\n",
       "    <tr>\n",
       "      <th>1061</th>\n",
       "      <td>West Bengal</td>\n",
       "      <td>WPOI</td>\n",
       "      <td>48006</td>\n",
       "    </tr>\n",
       "    <tr>\n",
       "      <th>1062</th>\n",
       "      <td>West Bengal</td>\n",
       "      <td>grac</td>\n",
       "      <td>2906</td>\n",
       "    </tr>\n",
       "  </tbody>\n",
       "</table>\n",
       "<p>1063 rows × 3 columns</p>\n",
       "</div>"
      ],
      "text/plain": [
       "                          state    party  total_votes\n",
       "0     Andaman & Nicobar Islands     AAAP         3737\n",
       "1     Andaman & Nicobar Islands     AIFB          225\n",
       "2     Andaman & Nicobar Islands     AITC         2283\n",
       "3     Andaman & Nicobar Islands      BJP        90969\n",
       "4     Andaman & Nicobar Islands      BSP         1139\n",
       "...                         ...      ...          ...\n",
       "1058                West Bengal     SUCI       350616\n",
       "1059                West Bengal     SWJP         5340\n",
       "1060                West Bengal  TRMRPPI         1071\n",
       "1061                West Bengal     WPOI        48006\n",
       "1062                West Bengal     grac         2906\n",
       "\n",
       "[1063 rows x 3 columns]"
      ]
     },
     "execution_count": 67,
     "metadata": {},
     "output_type": "execute_result"
    }
   ],
   "source": [
    "# state level vote split 2014\n",
    "\n",
    "statelevelvotesplit14 = pd.DataFrame(data14.groupby(['state','party'])['total_votes'].sum()).reset_index()\n",
    "statelevelvotesplit14"
   ]
  },
  {
   "cell_type": "code",
   "execution_count": 71,
   "id": "8da6e423-8737-427f-b73c-97467f04b4de",
   "metadata": {},
   "outputs": [],
   "source": [
    "#electors_state = pd.DataFrame(electors_constituency.groupby('state')['total_electors'].sum()).reset_index().sort_values(by='total_electors',ascending=False)\n",
    "#electors_state\n",
    "\n",
    "statelevelpartysplit14 = pd.merge(statelevelvotesplit14,electors_state14,on='state')\n",
    "statelevelpartysplit14['vote_percent'] = np.round(100*statelevelpartysplit14['total_votes']/statelevelpartysplit14['total_electors'],2)\n",
    "\n",
    "statelevelpartysplit14.sort_values(by='vote_percent',ascending=False,inplace=True)\n",
    "\n",
    "statelevelpartysplit14 = statelevelpartysplit14.loc[statelevelpartysplit14['vote_percent']>30]\n",
    "\n",
    "statelevelpartysplit14.to_csv(r\"C:\\Users\\ASUS\\datascience\\competitions\\codebasics-resumechallenge11\\RPC11_Input_For_Participants\\datasets\\statelevelpartysplit14.csv\")"
   ]
  },
  {
   "cell_type": "code",
   "execution_count": null,
   "id": "0ec30990-39bf-4dce-811f-953bbead4a6a",
   "metadata": {},
   "outputs": [],
   "source": []
  },
  {
   "cell_type": "code",
   "execution_count": null,
   "id": "bd898d83-2b8b-47f0-89f7-c931e24747e1",
   "metadata": {},
   "outputs": [],
   "source": []
  },
  {
   "cell_type": "code",
   "execution_count": null,
   "id": "c8dd8575-f8b0-4bdd-9e55-b18b27ebcf06",
   "metadata": {},
   "outputs": [],
   "source": []
  },
  {
   "cell_type": "code",
   "execution_count": null,
   "id": "5df5fb91-6e43-4399-b13b-282dd923c37a",
   "metadata": {},
   "outputs": [],
   "source": []
  },
  {
   "cell_type": "code",
   "execution_count": null,
   "id": "b5bc095e-d209-4517-bd12-0d2ae7d722d3",
   "metadata": {},
   "outputs": [],
   "source": [
    "# data 2019 analysis"
   ]
  },
  {
   "cell_type": "code",
   "execution_count": null,
   "id": "0bccd787-d96e-4ea1-aabd-5ffe628899b2",
   "metadata": {},
   "outputs": [],
   "source": [
    "constituencywisevoted19 = data19.groupby(['pc_name','state'])['total_votes'].sum()\n",
    "constituencywisevoters19 = data19.groupby('pc_name')['total_electors'].mean()\n",
    "constituency_vote_turnout_ratio19 = pd.DataFrame(np.floor(100*constituencywisevoted19/constituencywisevoters19)).reset_index()\n",
    "constituency_vote_turnout_ratio19.columns = ['pc_name','state','vote_turnout_ratio']\n",
    "constituency_vote_turnout_ratio19 = constituency_vote_turnout_ratio19.sort_values(by='vote_turnout_ratio',ascending=False)\n",
    "top5constituencies19 = constituency_vote_turnout_ratio19.head() # something wrong\n",
    "bottom5constituencies19 = constituency_vote_turnout_ratio19.sort_values(by='vote_turnout_ratio').head()\n",
    "print(top5constituencies19)\n",
    "print()\n",
    "print(bottom5constituencies19)"
   ]
  },
  {
   "cell_type": "code",
   "execution_count": null,
   "id": "4a9dab29-b9f7-4297-b498-b07d96960856",
   "metadata": {},
   "outputs": [],
   "source": []
  },
  {
   "cell_type": "code",
   "execution_count": null,
   "id": "425f88ee-8cc8-4931-aa24-40455ebe4876",
   "metadata": {},
   "outputs": [],
   "source": [
    "subsetdata19 = data19[['state','pc_name','total_electors']].drop_duplicates()\n",
    "statewiseelectors19 = subsetdata19.groupby('state')['total_electors'].sum()\n",
    "statewisevoted19 = data19.groupby('state')['total_votes'].sum()\n",
    "state_vote_turnout_ratio19 = np.floor(100*statewisevoted19/statewiseelectors19)\n",
    "print(state_vote_turnout_ratio19.sort_values(ascending=False).head())\n",
    "print()\n",
    "print(state_vote_turnout_ratio19.sort_values().head())"
   ]
  },
  {
   "cell_type": "code",
   "execution_count": null,
   "id": "b16deff9-821d-4bc8-ac91-6f26f33c37b7",
   "metadata": {},
   "outputs": [],
   "source": []
  },
  {
   "cell_type": "code",
   "execution_count": null,
   "id": "9fe2dfae-ff01-4b72-9ff2-ca1068dc7428",
   "metadata": {},
   "outputs": [],
   "source": [
    "# MARGINS 19\n",
    "top2_19 = data19.groupby(['state','pc_name'])['total_votes'].nlargest(2).reset_index()\n",
    "top2_19 = pd.merge(top2_19,data19,how='left',left_on='level_2',right_index=True)[['state_x','pc_name_x','candidate','total_votes_y']]\n",
    "top2_19"
   ]
  },
  {
   "cell_type": "code",
   "execution_count": null,
   "id": "52fd991a-3520-468b-bd54-1bd3deef1717",
   "metadata": {},
   "outputs": [],
   "source": [
    "list = []\n",
    "for i in range(0,len(top2_19)-1,2):\n",
    "    state_i = top2_19['state_x'][i]\n",
    "    pc_name_i = top2_19['pc_name_x'][i]\n",
    "    candidate_i = top2_19['candidate'][i]\n",
    "    margin_i = top2_19['total_votes_y'][i]-top2_19['total_votes_y'][i+1]\n",
    "    list.append([state_i,pc_name_i,candidate_i,margin_i])\n",
    "\n",
    "margin_table19 = pd.DataFrame(list)\n",
    "margin_table19.columns = ['state/UT','pc_name','candidate','margin']\n",
    "margins19 = margin_table19.sort_values(by='margin',ascending=False).head()\n",
    "margins19"
   ]
  },
  {
   "cell_type": "code",
   "execution_count": null,
   "id": "ff76943e-dd2a-418e-aad6-5e77a4270d11",
   "metadata": {
    "scrolled": true
   },
   "outputs": [],
   "source": [
    "# NOTA 19\n",
    "nota_votes19 = data19[ data19['party'] == 'NOTA' ][['pc_name','state','total_votes','total_electors']].set_index('pc_name')\n",
    "nota_votes19['nota_percent'] = np.floor(100*nota_votes19['total_votes']/nota_votes19['total_electors'])\n",
    "nota_highest_by_number19 = nota_votes19.sort_values(by='total_votes',ascending=False).head(5) # by absolute number\n",
    "nota_highest_by_percent19 = nota_votes19.sort_values(by='nota_percent',ascending=False).head(5) # by percentage\n",
    "print(nota_highest_by_number19)\n",
    "print()\n",
    "print(nota_highest_by_percent19)"
   ]
  },
  {
   "cell_type": "code",
   "execution_count": null,
   "id": "494e7839-5717-4a63-badd-0b6264fe9bb1",
   "metadata": {},
   "outputs": [],
   "source": []
  },
  {
   "cell_type": "code",
   "execution_count": null,
   "id": "b71dcc2f-c9c3-4883-9e4a-7eb12abefda0",
   "metadata": {},
   "outputs": [],
   "source": [
    "# PARTY WISE SPLIT\n",
    "totalvotes19 = pd.DataFrame(data19.groupby('party')['total_votes'].sum().sort_values(ascending=False)) # party-votes_won\n",
    "#totalvotes = totalvotes.loc[totalvotes['']>1000]\n",
    "\n",
    "total_voters_in_india19 = np.floor(constituencywisevoters19).sum() # no. of voters overall in india\n",
    "total_voted_in_india19 = data19['total_votes'].sum()  # number of voted overall in india\n",
    "overall_voter_turnout19 = np.round(100*total_voted_in_india19/total_voters_in_india19,2)\n",
    "print(total_voted_in_india19, total_voters_in_india19, overall_voter_turnout19)\n",
    "print(totalvotes19)\n",
    "\n",
    "totalvotes19['vote_percent_by_voted'] = 100*np.round(totalvotes19/total_voted_in_india19,2)\n",
    "#totalvotes14['vote_percent_by_voters'] = totalvotes14/total_voters_in_india14\n",
    "totalvotes19 = totalvotes19.sort_values(by='vote_percent_by_voted',ascending=False)"
   ]
  },
  {
   "cell_type": "code",
   "execution_count": null,
   "id": "012aa251-3e2d-4a14-8052-bccc21e130c5",
   "metadata": {},
   "outputs": [],
   "source": [
    "# keeping pie plot simple\n",
    "voteshareforplot = totalvotes19.head(10).reset_index()\n",
    "voteshareforplot.loc[len(voteshareforplot)]=['OTHERS',1300166177,21]\n",
    "voteshareforplot\n",
    "\n",
    "plt.pie(voteshareforplot['vote_percent_by_voted'],labels=voteshareforplot['vote_percent_by_voted'],startangle=90,counterclock=False)\n",
    "plt.legend(voteshareforplot['party'],loc='best',bbox_to_anchor=(1,1,0.4,0))\n",
    "plt.title('party wise vote percent at national level 2019 elections')\n",
    "plt.show()\n",
    "plt.savefig('2019votesplitnationallevel')"
   ]
  },
  {
   "cell_type": "code",
   "execution_count": null,
   "id": "9e59747b-b4a5-4739-8d1b-5cc83a43c42e",
   "metadata": {},
   "outputs": [],
   "source": []
  },
  {
   "cell_type": "code",
   "execution_count": null,
   "id": "77ecc1b1-86d0-4a2e-954a-dc1e6d586e1e",
   "metadata": {},
   "outputs": [],
   "source": [
    "# state level vote split 2014\n",
    "\n",
    "statelevelvotesplit19 = pd.DataFrame(data19.groupby(['state','party'])['total_votes'].sum()).reset_index()\n",
    "statelevelvotesplit19"
   ]
  },
  {
   "cell_type": "code",
   "execution_count": null,
   "id": "a734c680-9b2a-4263-994d-6094d2b61a73",
   "metadata": {},
   "outputs": [],
   "source": [
    "#electors_state = pd.DataFrame(electors_constituency.groupby('state')['total_electors'].sum()).reset_index().sort_values(by='total_electors',ascending=False)\n",
    "#electors_state\n",
    "\n",
    "statelevelpartysplit19 = pd.merge(statelevelvotesplit19,electors_state,on='state')\n",
    "statelevelpartysplit19['vote_percent'] = np.round(100*statelevelpartysplit19['total_votes']/statelevelpartysplit19['total_electors'],2)\n",
    "\n",
    "statelevelpartysplit19.sort_values(by='vote_percent',ascending=False,inplace=True)\n",
    "\n",
    "statelevelpartysplit19 = statelevelpartysplit19.loc[statelevelpartysplit19['vote_percent']>30]\n",
    "\n",
    "statelevelpartysplit19.to_csv(r\"C:\\Users\\ASUS\\datascience\\competitions\\codebasics-resumechallenge11\\RPC11_Input_For_Participants\\datasets\\statelevelpartysplit19.csv\")"
   ]
  },
  {
   "cell_type": "code",
   "execution_count": null,
   "id": "a78e699b-72c0-4229-96f7-4e939928f82f",
   "metadata": {},
   "outputs": [],
   "source": []
  },
  {
   "cell_type": "code",
   "execution_count": null,
   "id": "3c30f114-d151-4949-9019-270f50902ff2",
   "metadata": {},
   "outputs": [],
   "source": []
  },
  {
   "cell_type": "code",
   "execution_count": null,
   "id": "c18d5450-3c5a-4fe2-86e9-d3e0dd318c66",
   "metadata": {},
   "outputs": [],
   "source": [
    "# comparison\n"
   ]
  },
  {
   "cell_type": "code",
   "execution_count": null,
   "id": "54bffdfc-d922-4243-9d14-0c0651686bcf",
   "metadata": {},
   "outputs": [],
   "source": [
    "notavotes_14 = data14.loc[data14['party']=='NOTA']['total_votes'].sum()\n",
    "notapercent_14 = notavotes_14/total_voted_in_india14\n",
    "notapercent_14"
   ]
  },
  {
   "cell_type": "code",
   "execution_count": null,
   "id": "1f90a9a2-4145-4a1d-aa70-4cd7c89f907f",
   "metadata": {},
   "outputs": [],
   "source": [
    "notavotes_19 = data19.loc[data19['party']=='NOTA']['total_votes'].sum()\n",
    "notapercent_19 = notavotes_19/total_voted_in_india19\n",
    "notapercent_19"
   ]
  },
  {
   "cell_type": "code",
   "execution_count": null,
   "id": "e812a6b2-13df-4127-aeab-04a2cd71309d",
   "metadata": {},
   "outputs": [],
   "source": []
  },
  {
   "cell_type": "code",
   "execution_count": null,
   "id": "9b16e115-41bb-41f6-a740-979b4220a69e",
   "metadata": {},
   "outputs": [],
   "source": []
  },
  {
   "cell_type": "code",
   "execution_count": null,
   "id": "0c7307e5-4f80-42d0-b166-d3e73f7caa95",
   "metadata": {},
   "outputs": [],
   "source": []
  },
  {
   "cell_type": "code",
   "execution_count": null,
   "id": "f537f069-3147-4b16-a344-57120630b2b5",
   "metadata": {},
   "outputs": [],
   "source": []
  },
  {
   "cell_type": "code",
   "execution_count": null,
   "id": "f325dbba-800d-40c5-8b8d-903781d5b51f",
   "metadata": {},
   "outputs": [],
   "source": [
    "winners14 = pd.DataFrame(data14.groupby(['state','pc_name'])['total_votes'].nlargest(1)).reset_index()\n",
    "indexes = winners14['level_2']\n",
    "list=[]\n",
    "for index in indexes:\n",
    "    row = data14.iloc[index,[0,1,6,10,11]]\n",
    "    list.append(row)\n",
    "stats14 = pd.DataFrame(list)\n",
    "stats14['votepercent'] = (100*stats14['total_votes']/stats14['total_electors']).round(2)\n",
    "stats14 = stats14.drop(['total_votes','total_electors'],axis=1)\n",
    "stats14"
   ]
  },
  {
   "cell_type": "code",
   "execution_count": null,
   "id": "53c49d2f-5935-4ff4-86b6-da5add675e7a",
   "metadata": {},
   "outputs": [],
   "source": [
    "winners19 = pd.DataFrame(data19.groupby(['state','pc_name'])['total_votes'].nlargest(1)).reset_index()\n",
    "indexes = winners19['level_2']\n",
    "list=[]\n",
    "for index in indexes:\n",
    "    row = data19.iloc[index,[0,1,6,10,11]]\n",
    "    list.append(row)\n",
    "stats19 = pd.DataFrame(list)\n",
    "stats19['votepercent'] = (100*stats19['total_votes']/stats19['total_electors']).round(2)\n",
    "stats19 = stats19.drop(['total_votes','total_electors'],axis=1)\n",
    "stats19"
   ]
  },
  {
   "cell_type": "code",
   "execution_count": null,
   "id": "888f69b1-2d3c-4eb8-88db-b2b1ca9bfc18",
   "metadata": {},
   "outputs": [],
   "source": [
    "table = pd.merge(stats14,stats19,on=['state','pc_name'],suffixes=('_14','_19'))\n",
    "table1 = table.loc[table['party_14']==table['party_19']].sort_values('votepercent_19',ascending=False)\n",
    "table1"
   ]
  },
  {
   "cell_type": "code",
   "execution_count": null,
   "id": "230156a5-bba0-4a95-87e0-f98bc8132ad8",
   "metadata": {},
   "outputs": [],
   "source": [
    "table2 = table.loc[table['party_14']!=table['party_19']]\n",
    "table2['diff'] = table['votepercent_19'] - table['votepercent_14']\n",
    "table2.sort_values(by='diff',ascending=False).head(10)"
   ]
  },
  {
   "cell_type": "code",
   "execution_count": null,
   "id": "f120b105-c0fe-4b44-8ca1-3185b867398c",
   "metadata": {},
   "outputs": [],
   "source": [
    "# q8, Q9\n",
    "bjp_gain = table1.loc[table1['party_19']=='BJP'].drop(['party_14','party_19'],axis=1)\n",
    "bjp_gain['gain'] = bjp_gain['votepercent_19'] - bjp_gain['votepercent_14']\n",
    "bjp_gain = bjp_gain.sort_values(by='gain',ascending=False)\n",
    "bjp_gain"
   ]
  },
  {
   "cell_type": "code",
   "execution_count": null,
   "id": "c09bffd0-563e-4cc2-afc9-bcbd6c9d2d07",
   "metadata": {},
   "outputs": [],
   "source": [
    "bjp_gain.tail()"
   ]
  },
  {
   "cell_type": "code",
   "execution_count": null,
   "id": "26a12dd0-ead6-418f-8b83-61cd1c717f70",
   "metadata": {},
   "outputs": [],
   "source": [
    "inc_gain = table1.loc[table1['party_19']=='INC'].drop(['party_14','party_19'],axis=1)\n",
    "inc_gain['gain'] = inc_gain['votepercent_19'] - inc_gain['votepercent_14']\n",
    "inc_gain = inc_gain.sort_values(by='gain',ascending=False)\n",
    "inc_gain.head()"
   ]
  },
  {
   "cell_type": "code",
   "execution_count": null,
   "id": "a19bdaab-ad99-43ac-ba46-4ae1fa75c7ec",
   "metadata": {},
   "outputs": [],
   "source": [
    "inc_gain.tail()"
   ]
  },
  {
   "cell_type": "code",
   "execution_count": null,
   "id": "71774a25-0ca8-4a2f-bb63-796dddcf045f",
   "metadata": {},
   "outputs": [],
   "source": []
  },
  {
   "cell_type": "code",
   "execution_count": null,
   "id": "5d536442-a4be-484d-aec2-a14ca77b8460",
   "metadata": {},
   "outputs": [],
   "source": [
    "winners14 = data14.groupby(['state','pc_name'])['total_votes'].nlargest(1).reset_index()\n",
    "winners14= pd.merge(winners14,data14,how='left',left_on='level_2',right_index=True)[['state_x','pc_name_x','candidate','party','total_votes_y']]\n",
    "winners14\n",
    "\n",
    "seatswon_14 = pd.DataFrame(winners14.groupby('party')['state_x'].count().sort_values(ascending=False).head(10))\n",
    "seatswon_14['percent'] = np.round(100*seatswon_14/511,2)\n",
    "seatswon_14.columns=['seats_won','seat_percent']\n",
    "seatswon_14"
   ]
  },
  {
   "cell_type": "code",
   "execution_count": null,
   "id": "46589410-8248-40a7-b3fe-954d822e2290",
   "metadata": {},
   "outputs": [],
   "source": []
  },
  {
   "cell_type": "code",
   "execution_count": null,
   "id": "54848623-c3bc-4479-b4e3-2ba8d90af987",
   "metadata": {},
   "outputs": [],
   "source": []
  },
  {
   "cell_type": "code",
   "execution_count": null,
   "id": "22d853cb-e64c-48a6-8a89-57a61922d9a2",
   "metadata": {},
   "outputs": [],
   "source": []
  },
  {
   "cell_type": "code",
   "execution_count": null,
   "id": "50cd743c-b1ee-46ef-8e0e-f2eaf4d2f2dc",
   "metadata": {},
   "outputs": [],
   "source": [
    "# data14.loc[data14['pc_name']=='Amalapuram'].sort_values('total_votes',ascending=False)"
   ]
  },
  {
   "cell_type": "code",
   "execution_count": null,
   "id": "59b14dac-490e-41c7-9609-0f8def2d4fb4",
   "metadata": {},
   "outputs": [],
   "source": [
    "winners19 = data19.groupby(['state','pc_name'])['total_votes'].nlargest(1).reset_index()\n",
    "winners19= pd.merge(winners19,data19,how='left',left_on='level_2',right_index=True)[['state_x','pc_name_x','candidate','party','total_votes_y']]\n",
    "winners19\n",
    "\n",
    "seatswon_19 = pd.DataFrame(winners19.groupby('party')['state_x'].count().sort_values(ascending=False).head(10))\n",
    "seatswon_19['percent'] = np.round(100*seatswon_19/511,2)\n",
    "seatswon_19.columns=['seats_won','seat_percent']\n",
    "seatswon_19"
   ]
  },
  {
   "cell_type": "code",
   "execution_count": null,
   "id": "c56264ed-627b-4b89-a479-c3d6e230b493",
   "metadata": {},
   "outputs": [],
   "source": [
    "seatswon_14"
   ]
  }
 ],
 "metadata": {
  "kernelspec": {
   "display_name": "Python 3 (ipykernel)",
   "language": "python",
   "name": "python3"
  },
  "language_info": {
   "codemirror_mode": {
    "name": "ipython",
    "version": 3
   },
   "file_extension": ".py",
   "mimetype": "text/x-python",
   "name": "python",
   "nbconvert_exporter": "python",
   "pygments_lexer": "ipython3",
   "version": "3.9.19"
  }
 },
 "nbformat": 4,
 "nbformat_minor": 5
}
